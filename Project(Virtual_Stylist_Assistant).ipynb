{
  "nbformat": 4,
  "nbformat_minor": 0,
  "metadata": {
    "colab": {
      "name": "Project(Virtual_Stylist_Assistant).ipynb",
      "provenance": [],
      "collapsed_sections": [],
      "authorship_tag": "ABX9TyMmaIUXjRrBO5avhFfCrLNF",
      "include_colab_link": true
    },
    "kernelspec": {
      "name": "python3",
      "display_name": "Python 3"
    }
  },
  "cells": [
    {
      "cell_type": "markdown",
      "metadata": {
        "id": "view-in-github",
        "colab_type": "text"
      },
      "source": [
        "<a href=\"https://colab.research.google.com/github/mayukbasu/Virtual_Stylist_Assistant/blob/main/Project(Virtual_Stylist_Assistant).ipynb\" target=\"_parent\"><img src=\"https://colab.research.google.com/assets/colab-badge.svg\" alt=\"Open In Colab\"/></a>"
      ]
    },
    {
      "cell_type": "markdown",
      "metadata": {
        "id": "YNuaMVCaDzmQ"
      },
      "source": [
        "# **Problem Statement**\n",
        "\n",
        "The model looks at customer instagram and facebook images and classifies what fashion category they are wearing. The virtual Assistant can help the retailer detect and forecast fahion trends and lauch targetted marketing campaigns. In this project fashion MNIST dataset is used and a deep learning network is prepared to classify the images into 10 classes. Here we have a dataset of just grayscale images, so a much easier problem. Amazon Echo Look Style Assistant is an application of this.\n",
        "\n",
        "Objective:- Suppose a customer likes particluar type of dress, so we can do targetted marketing to that specific customer. targetted marketing helps us to attract more customers thus increasing sales and profits of the retailer, that obviously he wants to maximize.\n",
        "\n",
        "Fashion Class contains 70000 images;\n",
        "\n",
        "1. 60000 for training\n",
        "2. 10000 for testing\n",
        "\n",
        "Images are 2828 grayscale images. Each image is represented by a single row in the dataset with 2828 = 784 pixel values present in the 784 columns.\n",
        "\n",
        "The 10 target classes are as follows:\n",
        "0 => T-shirt/top 1 => Trouser 2 => Pullover 3 => Dress 4 => Coat 5 => Sandal 6 => Shirt 7 => Sneaker 8 => Bag 9 => Ankle boot\n",
        "\n",
        "Each image is 28 pixels in height and 28 pixels in width, for a total of 784 pixels in total. Each pixel has a single pixel-value associated with it, indicating the lightness or darkness of that pixel, with higher numbers meaning darker. This pixel-value is an integer between 0 and 255.\n",
        "\n"
      ]
    },
    {
      "cell_type": "code",
      "metadata": {
        "id": "maanIMOvitRu"
      },
      "source": [
        "from IPython.display import Image\n",
        "Image(\"Fashion.jpeg\", width=500, height=500)"
      ],
      "execution_count": null,
      "outputs": []
    },
    {
      "cell_type": "code",
      "metadata": {
        "id": "xhcZaINxiu-U"
      },
      "source": [
        "import pandas as pd\n",
        "import numpy as np\n",
        "import matplotlib.pyplot as plt\n",
        "import seaborn as sb\n",
        "import random"
      ],
      "execution_count": null,
      "outputs": []
    },
    {
      "cell_type": "code",
      "metadata": {
        "id": "92rslpV2pjpO"
      },
      "source": [
        "from google.colab import files \n",
        "uploaded = files.upload() "
      ],
      "execution_count": null,
      "outputs": []
    },
    {
      "cell_type": "code",
      "metadata": {
        "id": "9rAjB0W6pvwa"
      },
      "source": [
        "training_set=pd.read_csv(\"fashion-mnist_train.csv\")\n",
        "test_set=pd.read_csv(\"fashion-mnist_test.csv\")"
      ],
      "execution_count": null,
      "outputs": []
    },
    {
      "cell_type": "code",
      "metadata": {
        "id": "zXAg4YwRD_J2"
      },
      "source": [
        "training_set.head()"
      ],
      "execution_count": null,
      "outputs": []
    },
    {
      "cell_type": "code",
      "metadata": {
        "id": "DINNv8H5D_NN"
      },
      "source": [
        "test_set.head()"
      ],
      "execution_count": null,
      "outputs": []
    },
    {
      "cell_type": "code",
      "metadata": {
        "id": "tROhlHqoD_Xf"
      },
      "source": [
        "training_set.info()"
      ],
      "execution_count": null,
      "outputs": []
    },
    {
      "cell_type": "code",
      "metadata": {
        "id": "poKah73dD_bt"
      },
      "source": [
        "test_set.info()"
      ],
      "execution_count": null,
      "outputs": []
    },
    {
      "cell_type": "code",
      "metadata": {
        "id": "8d1Gr0xVD_WW"
      },
      "source": [
        "training_set.shape"
      ],
      "execution_count": null,
      "outputs": []
    },
    {
      "cell_type": "code",
      "metadata": {
        "id": "rSUoPCMfD_QP"
      },
      "source": [
        "test_set.shape"
      ],
      "execution_count": null,
      "outputs": []
    },
    {
      "cell_type": "code",
      "metadata": {
        "id": "cb0YCF6BERXn"
      },
      "source": [
        "# Create training and testing arrays(since working with arrays preferrable rather than dataframe)\n",
        "training = np.array(training_set, dtype = 'float32')\n",
        "test = np.array(test_set, dtype='float32')"
      ],
      "execution_count": null,
      "outputs": []
    },
    {
      "cell_type": "code",
      "metadata": {
        "id": "mIBXT8DoEU-E"
      },
      "source": [
        "len(training)"
      ],
      "execution_count": null,
      "outputs": []
    },
    {
      "cell_type": "code",
      "metadata": {
        "id": "1Jdkw-XDEVBw"
      },
      "source": [
        "test"
      ],
      "execution_count": null,
      "outputs": []
    },
    {
      "cell_type": "code",
      "metadata": {
        "id": "ewp6gplPEVGy"
      },
      "source": [
        "# Let's view some images!\n",
        "i = random.randint(1,60000) # select any random index from 1 to 60,000\n",
        "plt.imshow( training[i,1:].reshape(28,28) , cmap = 'gray') # reshape and plot the image\n",
        "# remember:- The 10 target classes are as follows:  \n",
        "#    0 => T-shirt/top\n",
        "#    1 => Trouser\n",
        "#    2 => Pullover\n",
        "#    3 => Dress\n",
        "#    4 => Coat\n",
        "#    5 => Sandal\n",
        "#    6 => Shirt\n",
        "#    7 => Sneaker\n",
        "#    8 => Bag\n",
        "#    9 => Ankle boot"
      ],
      "execution_count": null,
      "outputs": []
    },
    {
      "cell_type": "code",
      "metadata": {
        "id": "S83Cen6jEVKm"
      },
      "source": [
        "label=training[i,0]\n",
        "label"
      ],
      "execution_count": null,
      "outputs": []
    },
    {
      "cell_type": "code",
      "metadata": {
        "id": "RbLj_krxEVNH"
      },
      "source": [
        "# lets visualize the first 5 fashion class of the training dataset and see if it matches or not\n",
        "training[0:5,0]"
      ],
      "execution_count": null,
      "outputs": []
    },
    {
      "cell_type": "code",
      "metadata": {
        "id": "9p4RvDaUEVFG"
      },
      "source": [
        "_,axes=plt.subplots(1,5)\n",
        "for i in range(0,5):\n",
        "    axes[i].imshow( training[i,1:].reshape(28,28) , cmap = 'gray')\n",
        "    axes[i].set_title(training[i,0], fontsize = 8)\n",
        "    axes[i].axis('off')\n",
        "#    0 => T-shirt/top\n",
        "#    1 => Trouser\n",
        "#    2 => Pullover\n",
        "#    3 => Dress\n",
        "#    4 => Coat\n",
        "#    5 => Sandal\n",
        "#    6 => Shirt\n",
        "#    7 => Sneaker\n",
        "#    8 => Bag\n",
        "#    9 => Ankle boot"
      ],
      "execution_count": null,
      "outputs": []
    },
    {
      "cell_type": "code",
      "metadata": {
        "id": "IoqNvr9YEoV9"
      },
      "source": [
        "x_train=training[:,1:]/255 #Feature scaling \n",
        "y_train=training[:,0]"
      ],
      "execution_count": null,
      "outputs": []
    },
    {
      "cell_type": "code",
      "metadata": {
        "id": "QLbVVXmqEocA"
      },
      "source": [
        "x_test=test[:,1:]/255 #Feature Scaling\n",
        "y_test=test[:,0]"
      ],
      "execution_count": null,
      "outputs": []
    },
    {
      "cell_type": "code",
      "metadata": {
        "id": "7QA2_o4_Eofh"
      },
      "source": [
        "# Just to check the results on the training data before checking on test set\n",
        "from sklearn.model_selection import train_test_split\n",
        "x_train,x_validate,y_train,y_validate = train_test_split(x_train , y_train , test_size=0.2 , random_state=42)"
      ],
      "execution_count": null,
      "outputs": []
    },
    {
      "cell_type": "code",
      "metadata": {
        "id": "Q1J9tOQIEoi9"
      },
      "source": [
        "x_train.shape"
      ],
      "execution_count": null,
      "outputs": []
    },
    {
      "cell_type": "code",
      "metadata": {
        "id": "9ogQIvBuEomH"
      },
      "source": [
        "x_validate.shape"
      ],
      "execution_count": null,
      "outputs": []
    },
    {
      "cell_type": "code",
      "metadata": {
        "id": "Z37L2NZBE6JG"
      },
      "source": [
        "y_train.shape"
      ],
      "execution_count": null,
      "outputs": []
    },
    {
      "cell_type": "code",
      "metadata": {
        "id": "m7nS4yweE6SG"
      },
      "source": [
        "y_validate.shape"
      ],
      "execution_count": null,
      "outputs": []
    },
    {
      "cell_type": "code",
      "metadata": {
        "id": "9_qosnWRE6Vs"
      },
      "source": [
        "# * unpack the tuple\n",
        "x_train = x_train.reshape(x_train.shape[0], *(28, 28, 1))\n",
        "x_test = x_test.reshape(x_test.shape[0], *(28, 28, 1))\n",
        "x_validate = x_validate.reshape(x_validate.shape[0], *(28, 28, 1))"
      ],
      "execution_count": null,
      "outputs": []
    },
    {
      "cell_type": "code",
      "metadata": {
        "id": "HGwf-4NIE6Zb"
      },
      "source": [
        "x_train.shape"
      ],
      "execution_count": null,
      "outputs": []
    },
    {
      "cell_type": "code",
      "metadata": {
        "id": "BI5QB51pE6cp"
      },
      "source": [
        "x_test.shape"
      ],
      "execution_count": null,
      "outputs": []
    },
    {
      "cell_type": "code",
      "metadata": {
        "id": "-l_VE_zHE6fa"
      },
      "source": [
        "x_validate.shape"
      ],
      "execution_count": null,
      "outputs": []
    },
    {
      "cell_type": "code",
      "metadata": {
        "id": "2dIa8L3fFMZt"
      },
      "source": [
        "from keras.models import Sequential\n",
        "from keras.layers import Convolution2D\n",
        "from keras.layers import MaxPooling2D\n",
        "from keras.layers import Flatten\n",
        "from keras.layers import Dense, Dropout\n",
        "from keras.optimizers import Adam\n",
        "from keras.callbacks import TensorBoard"
      ],
      "execution_count": null,
      "outputs": []
    },
    {
      "cell_type": "code",
      "metadata": {
        "id": "HtDtkOTCFMfg"
      },
      "source": [
        "classifier=Sequential()"
      ],
      "execution_count": null,
      "outputs": []
    },
    {
      "cell_type": "code",
      "metadata": {
        "id": "gEe2ieEWFMlX"
      },
      "source": [
        "classifier.add(Convolution2D(32,3,3,input_shape=(28,28,1),activation='relu'))"
      ],
      "execution_count": null,
      "outputs": []
    },
    {
      "cell_type": "code",
      "metadata": {
        "id": "U4u4Nyf-FMoo"
      },
      "source": [
        "classifier.add(MaxPooling2D(pool_size=(2,2)))"
      ],
      "execution_count": null,
      "outputs": []
    },
    {
      "cell_type": "code",
      "metadata": {
        "id": "9QCiGpNWFMuc"
      },
      "source": [
        "# Dropout Regularization:-\n",
        "classifier.add(Dropout(0.2)) # 20% dropping rate of the neurons while training forward"
      ],
      "execution_count": null,
      "outputs": []
    },
    {
      "cell_type": "code",
      "metadata": {
        "id": "9YFZ628oFM0M"
      },
      "source": [
        "classifier.add(Flatten())"
      ],
      "execution_count": null,
      "outputs": []
    },
    {
      "cell_type": "code",
      "metadata": {
        "id": "TFfDQrcGFMxN"
      },
      "source": [
        "classifier.add(Dense(output_dim=56, activation='relu'))\n",
        "classifier.add(Dense(output_dim=10, activation='sigmoid'))"
      ],
      "execution_count": null,
      "outputs": []
    },
    {
      "cell_type": "code",
      "metadata": {
        "id": "97AD8pmtFMrJ"
      },
      "source": [
        "classifier.compile(optimizer='adam',loss='sparse_categorical_crossentropy',metrics=['accuracy'])"
      ],
      "execution_count": null,
      "outputs": []
    },
    {
      "cell_type": "code",
      "metadata": {
        "id": "mz8WX12ZFMjB"
      },
      "source": [
        "classifier.fit(x_train,\n",
        "               y_train,\n",
        "               batch_size = 512,\n",
        "               nb_epoch = 50,\n",
        "               verbose = 1,\n",
        "               validation_data = (x_validate, y_validate))"
      ],
      "execution_count": null,
      "outputs": []
    },
    {
      "cell_type": "code",
      "metadata": {
        "id": "Ty3p043JFMcp"
      },
      "source": [
        "# Predict the test set results\n",
        "y_pred = classifier.predict_classes(x_test)\n",
        "y_pred"
      ],
      "execution_count": null,
      "outputs": []
    },
    {
      "cell_type": "code",
      "metadata": {
        "id": "LS7sWqjPFh61"
      },
      "source": [
        "y_pred"
      ],
      "execution_count": null,
      "outputs": []
    },
    {
      "cell_type": "code",
      "metadata": {
        "id": "gdUTuF_dFh-U"
      },
      "source": [
        "y_test"
      ],
      "execution_count": null,
      "outputs": []
    },
    {
      "cell_type": "code",
      "metadata": {
        "id": "u1_GPN7NFiED"
      },
      "source": [
        "#visualizing the first 100 images of the test set\n",
        "_, axes = plt.subplots(10, 10, figsize = (30,30))\n",
        "axes = axes.ravel()\n",
        "\n",
        "for i in np.arange(0, 100):  \n",
        "    axes[i].imshow(x_test[i].reshape(28,28))\n",
        "    axes[i].set_title(\"Prediction Class = {:0.1f}\\n True Class = {:0.1f}\".format(y_pred[i], y_test[i]))\n",
        "    axes[i].axis('off')\n",
        "\n",
        "plt.subplots_adjust(wspace=0.5)\n",
        "# remember:- The 10 target classes are as follows:  \n",
        "#    0 => T-shirt/top\n",
        "#    1 => Trouser\n",
        "#    2 => Pullover\n",
        "#    3 => Dress\n",
        "#    4 => Coat\n",
        "#    5 => Sandal\n",
        "#    6 => Shirt\n",
        "#    7 => Sneaker\n",
        "#    8 => Bag\n",
        "#    9 => Ankle boot"
      ],
      "execution_count": null,
      "outputs": []
    },
    {
      "cell_type": "code",
      "metadata": {
        "id": "Z3JSiXfOFiHE"
      },
      "source": [
        "evaluation = classifier.evaluate(x_test, y_test)\n",
        "evaluation"
      ],
      "execution_count": null,
      "outputs": []
    },
    {
      "cell_type": "code",
      "metadata": {
        "id": "xSZN6QNWFiB7"
      },
      "source": [
        "# Accuracy on the test set\n",
        "print('Test Accuracy : {:.3f}'.format(evaluation[1]))"
      ],
      "execution_count": null,
      "outputs": []
    },
    {
      "cell_type": "code",
      "metadata": {
        "id": "c5pn_4evFtVu"
      },
      "source": [
        "from sklearn.metrics import confusion_matrix\n",
        "cm = confusion_matrix(y_test, y_pred)\n",
        "cm"
      ],
      "execution_count": null,
      "outputs": []
    },
    {
      "cell_type": "code",
      "metadata": {
        "id": "X8wprRmrFtYw"
      },
      "source": [
        "from sklearn.metrics import classification_report\n",
        "target_names = [\"Class {}\".format(i) for i in range(10)]\n",
        "print(classification_report(y_test, y_pred, target_names = target_names))\n",
        "# remember:- The 10 target classes are as follows:  \n",
        "#    0 => T-shirt/top\n",
        "#    1 => Trouser\n",
        "#    2 => Pullover\n",
        "#    3 => Dress\n",
        "#    4 => Coat\n",
        "#    5 => Sandal\n",
        "#    6 => Shirt\n",
        "#    7 => Sneaker\n",
        "#    8 => Bag\n",
        "#    9 => Ankle boot"
      ],
      "execution_count": null,
      "outputs": []
    },
    {
      "cell_type": "code",
      "metadata": {
        "id": "3yAwkY7nFthy"
      },
      "source": [
        ""
      ],
      "execution_count": null,
      "outputs": []
    },
    {
      "cell_type": "markdown",
      "metadata": {
        "id": "6yt_8JztF13O"
      },
      "source": [
        "\n",
        "# **IMPROVEMENT IN THE MODEL**\n",
        "\n",
        "This can be done by 4 ways:-\n",
        "\n",
        "1> Add more feature detectors or filters. Can be included while adding the Convolution layer. Here 32 used since working on CPU, If GPU available can increase it to 64.\n",
        "\n",
        "2> Add one more convolutional layer with max pooling after the first pooling step and before the flattening step.\n",
        "\n",
        "3> Add some more fully connected layers\n",
        "\n",
        "4> Add dropout regularization technique. Dropout refers to the dropping out of units in the neural network which has the least co-dependency, therefore renoving the problem of overfitting. Hence used here.\n",
        "\n",
        "5> Use gridsearchCV for parameter tuning.\n",
        "\n",
        "# **CONCLUSION**\n",
        "\n",
        "It could be seen clearly that other than classes 0,2,6 the model prediction precision was over 90%. But the model predicts the above mentioned classes poorly witha precision of 88%, 87% and 74% respectively. If we have a look at what those classes represent, they are:- Tshirt/top, pullover, shirt. To classify this even humans face problem most of the times, so does this model face and hence it's totally genuine and correct to get a less precision score on these classes.\n"
      ]
    }
  ]
}